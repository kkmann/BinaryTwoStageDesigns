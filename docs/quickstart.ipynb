{
 "cells": [
  {
   "cell_type": "markdown",
   "metadata": {},
   "source": [
    "# BinaryTwoStageDesigns - Quickstart\n",
    "\n",
    "This is a [jupyter](http://jupyter.org) notebook using the [Julia](https://julialang.org/) kernel [IJulia.jl](https://github.com/JuliaLang/IJulia.jl) demonstrating the use of the Julia package [BinaryTwoStageDesigns](https://github.com/kkmann/BinaryTwoStageDesigns/blob/master/README.md)."
   ]
  },
  {
   "cell_type": "code",
   "execution_count": 1,
   "metadata": {
    "collapsed": true
   },
   "outputs": [],
   "source": [
    "using BinaryTwoStageDesigns, Cbc, Ipopt, DataFrames"
   ]
  },
  {
   "cell_type": "markdown",
   "metadata": {},
   "source": [
    "## Setting\n",
    "\n",
    "Assume that a new anti-cancer agent is to be tested against a historical response rate of $p_0=0.2$ in a phase-II trial and a response rate of $p_1=0.4$ is expected.\n",
    "The maximal tolerable type-I-error rate for testing $\\mathcal{H}_0:p\\leq p_0$ is 5% and a type-II-error rate of 20% is deemed acceptable at $p_1=0.4$.\n",
    "\n",
    "The corresponding single-stage design would require $n=47$ patients in this situation."
   ]
  },
  {
   "cell_type": "code",
   "execution_count": 2,
   "metadata": {},
   "outputs": [
    {
     "data": {
      "text/plain": [
       "0.05"
      ]
     },
     "execution_count": 2,
     "metadata": {},
     "output_type": "execute_result"
    }
   ],
   "source": [
    "p0    = 0.2\n",
    "p1    = 0.4\n",
    "beta  = 0.2\n",
    "alpha = 0.05"
   ]
  },
  {
   "cell_type": "markdown",
   "metadata": {},
   "source": [
    "## Adaptive Design\n",
    "\n",
    "Alternatively, a two-stage adaptive design could be used which minimizes the expected sample size under $p_1=0.4$ subject to the same constraints. \n",
    "Additionally, for operational reasons a potential second stage must enroll at least 5 patients. Also, upon rejection of the null hypothesis, at least 25 patients must be enrolled to ensure a sufficiently precise effect estimate for subsequent phase-III planning."
   ]
  },
  {
   "cell_type": "markdown",
   "metadata": {},
   "source": [
    "### Sample Space\n",
    "\n",
    "First, a sample space object is defined. It simply holds infomarion about the allowable search space for the optimization algorithm. Here, the range of possible stage-one sample sizes is limited to 10 to 20 and the maximal overall sample size to 75. "
   ]
  },
  {
   "cell_type": "code",
   "execution_count": 3,
   "metadata": {},
   "outputs": [
    {
     "data": {
      "text/plain": []
     },
     "execution_count": 3,
     "metadata": {},
     "output_type": "execute_result"
    }
   ],
   "source": [
    "s = SampleSpace(\n",
    "    15:25, # n1 range\n",
    "    75     # nmax\n",
    ")"
   ]
  },
  {
   "cell_type": "markdown",
   "metadata": {},
   "source": [
    "### Parameters\n",
    "\n",
    "Next, the design parameters are also stored in an object. The simplest parameters object corresponds to minimising expected sample size. For a `MESS`-object only $p_0, p_1$, maximal type one and two error rates and the parameter value for which the expected sample size is to be minimized are required besides the sample space object created earlier."
   ]
  },
  {
   "cell_type": "code",
   "execution_count": 4,
   "metadata": {},
   "outputs": [
    {
     "name": "stdout",
     "output_type": "stream",
     "text": [
      "SampleSpace"
     ]
    },
    {
     "data": {
      "text/plain": []
     },
     "execution_count": 4,
     "metadata": {},
     "output_type": "execute_result"
    }
   ],
   "source": [
    "params1 = MESS(\n",
    "    s,                          # sample space\n",
    "    p0, p1;                     # null and planning alternative\n",
    "    alpha = alpha, beta = beta, # max. type one and two error rates\n",
    "    pess = p1                   # alternative on which to minimize expected sample size\n",
    ")"
   ]
  },
  {
   "cell_type": "markdown",
   "metadata": {},
   "source": [
    "### Optimization\n",
    "\n",
    "Finally, a solver can be defined and the optimization process is started. Note that both the optimal design as well as all design found while exhaustively exploring the $n_1$-space are returned. The basic technique via integer programming has been desribed in [Kunzmann & Kieser 2016](https://arxiv.org/abs/1605.00249)."
   ]
  },
  {
   "cell_type": "code",
   "execution_count": 5,
   "metadata": {},
   "outputs": [
    {
     "name": "stdout",
     "output_type": "stream",
     "text": [
      "MESS\n",
      "optimizing design for parameters ''\n",
      "considering 11 stage-one sample sizes between 15 and 25 using Cbc.CbcMathProgSolverInterface.CbcSolver as solver\n",
      "\n",
      "    time    n1   % done   sol. time [s]   cum. time [min]       score        best   % diff to best\n",
      "17:52:10    15      9.1             164               2.7   +2.45e+01   +2.45e+01              0.0\n",
      "\n",
      "\n",
      "    time    n1   % done   sol. time [s]   cum. time [min]       score        best   % diff to best\n",
      "17:54:54    16     18.2              61               3.7   +2.43e+01   +2.43e+01              0.0\n",
      "\n",
      "\n",
      "    time    n1   % done   sol. time [s]   cum. time [min]       score        best   % diff to best\n",
      "17:55:54    17     27.3              99               5.4   +2.47e+01   +2.43e+01              1.5\n",
      "\n",
      "\n",
      "    time    n1   % done   sol. time [s]   cum. time [min]       score        best   % diff to best\n",
      "17:57:34    18     36.4              53               6.3   +2.46e+01   +2.43e+01              0.9\n",
      "\n",
      "\n",
      "    time    n1   % done   sol. time [s]   cum. time [min]       score        best   % diff to best\n",
      "17:58:27    19     45.5              78               7.6   +2.46e+01   +2.43e+01              0.9\n",
      "\n",
      "\n",
      "    time    n1   % done   sol. time [s]   cum. time [min]       score        best   % diff to best\n",
      "17:59:45    20     54.5              78               8.9   +2.47e+01   +2.43e+01              1.6\n",
      "\n",
      "\n",
      "    time    n1   % done   sol. time [s]   cum. time [min]       score        best   % diff to best\n",
      "18:01:03    21     63.6             100              10.6   +2.53e+01   +2.43e+01              3.8\n",
      "\n"
     ]
    },
    {
     "name": "stderr",
     "output_type": "stream",
     "text": [
      "\u001b[1m\u001b[33mWARNING: \u001b[39m\u001b[22m\u001b[33mNot solved to optimality, status: UserLimit\u001b[39m\n"
     ]
    },
    {
     "name": "stdout",
     "output_type": "stream",
     "text": [
      "\n",
      "    time    n1   % done   sol. time [s]   cum. time [min]       score        best   % diff to best\n",
      "18:02:43    22     72.7             302              15.6   +2.92e+01   +2.43e+01             19.9\n",
      "\n",
      "\n",
      "    time    n1   % done   sol. time [s]   cum. time [min]       score        best   % diff to best\n",
      "18:07:45    23     81.8             131              17.8   +2.57e+01   +2.43e+01              5.7\n",
      "\n",
      "\n",
      "    time    n1   % done   sol. time [s]   cum. time [min]       score        best   % diff to best\n",
      "18:09:57    24     90.9              73              19.0   +2.63e+01   +2.43e+01              8.0\n",
      "\n",
      "\n",
      "    time    n1   % done   sol. time [s]   cum. time [min]       score        best   % diff to best\n",
      "18:11:10    25    100.0             110              20.8   +2.70e+01   +2.43e+01             11.0\n",
      "\n",
      "\n",
      "\n",
      "done after 21 minutes.\n",
      "Optimal stage-one sample size is 16 resulting in a minimal score of 2.43e+01\n",
      "\n",
      "\r"
     ]
    },
    {
     "data": {
      "text/html": [
       "<table class=\"data-frame\"><thead><tr><th></th><th>x1</th><th>n</th><th>c</th></tr></thead><tbody><tr><th>1</th><td>0</td><td>16</td><td>Inf</td></tr><tr><th>2</th><td>1</td><td>16</td><td>Inf</td></tr><tr><th>3</th><td>2</td><td>16</td><td>Inf</td></tr><tr><th>4</th><td>3</td><td>16</td><td>Inf</td></tr><tr><th>5</th><td>4</td><td>44</td><td>14.0</td></tr><tr><th>6</th><td>5</td><td>34</td><td>11.0</td></tr><tr><th>7</th><td>6</td><td>29</td><td>9.0</td></tr><tr><th>8</th><td>7</td><td>16</td><td>-Inf</td></tr><tr><th>9</th><td>8</td><td>16</td><td>-Inf</td></tr><tr><th>10</th><td>9</td><td>16</td><td>-Inf</td></tr><tr><th>11</th><td>10</td><td>16</td><td>-Inf</td></tr><tr><th>12</th><td>11</td><td>16</td><td>-Inf</td></tr><tr><th>13</th><td>12</td><td>16</td><td>-Inf</td></tr><tr><th>14</th><td>13</td><td>16</td><td>-Inf</td></tr><tr><th>15</th><td>14</td><td>16</td><td>-Inf</td></tr><tr><th>16</th><td>15</td><td>16</td><td>-Inf</td></tr><tr><th>17</th><td>16</td><td>16</td><td>-Inf</td></tr></tbody></table>"
      ],
      "text/plain": [
       "17×3 DataFrames.DataFrame\n",
       "│ Row │ x1 │ n  │ c    │\n",
       "├─────┼────┼────┼──────┤\n",
       "│ 1   │ 0  │ 16 │ Inf  │\n",
       "│ 2   │ 1  │ 16 │ Inf  │\n",
       "│ 3   │ 2  │ 16 │ Inf  │\n",
       "│ 4   │ 3  │ 16 │ Inf  │\n",
       "│ 5   │ 4  │ 44 │ 14.0 │\n",
       "│ 6   │ 5  │ 34 │ 11.0 │\n",
       "│ 7   │ 6  │ 29 │ 9.0  │\n",
       "│ 8   │ 7  │ 16 │ -Inf │\n",
       "│ 9   │ 8  │ 16 │ -Inf │\n",
       "│ 10  │ 9  │ 16 │ -Inf │\n",
       "│ 11  │ 10 │ 16 │ -Inf │\n",
       "│ 12  │ 11 │ 16 │ -Inf │\n",
       "│ 13  │ 12 │ 16 │ -Inf │\n",
       "│ 14  │ 13 │ 16 │ -Inf │\n",
       "│ 15  │ 14 │ 16 │ -Inf │\n",
       "│ 16  │ 15 │ 16 │ -Inf │\n",
       "│ 17  │ 16 │ 16 │ -Inf │"
      ]
     },
     "execution_count": 5,
     "metadata": {},
     "output_type": "execute_result"
    }
   ],
   "source": [
    "design1, res1 = optimaldesign(params1, CbcSolver(seconds = 300), VERBOSE = 1)\n",
    "DataFrame(design1)"
   ]
  },
  {
   "cell_type": "markdown",
   "metadata": {},
   "source": [
    "#### Bayesian approach\n",
    "\n",
    "Alternatively, a Bayesian design criterion can be used where the expected sample size under a prior distribution is minimized subject to a constraint on expected power.\n",
    "To this end, the minimal clinically relevant response rate $p_{MCR}$ must be defined. \n",
    "Here we assume that $p_{MCR}=p_0+0.1$."
   ]
  },
  {
   "cell_type": "code",
   "execution_count": 6,
   "metadata": {},
   "outputs": [
    {
     "data": {
      "text/plain": [
       "0.30000000000000004"
      ]
     },
     "execution_count": 6,
     "metadata": {},
     "output_type": "execute_result"
    }
   ],
   "source": [
    "pmcr = p0 + .1"
   ]
  },
  {
   "cell_type": "markdown",
   "metadata": {},
   "source": [
    "For the prior, we simply define a Beta distribution with mass centered slightly below $0.4$:"
   ]
  },
  {
   "cell_type": "code",
   "execution_count": 7,
   "metadata": {},
   "outputs": [
    {
     "data": {
      "text/plain": [
       "f (generic function with 1 method)"
      ]
     },
     "execution_count": 7,
     "metadata": {},
     "output_type": "execute_result"
    }
   ],
   "source": [
    "f(p) = Distributions.pdf(Distributions.Beta(5, 8), p)"
   ]
  },
  {
   "cell_type": "markdown",
   "metadata": {},
   "source": [
    "Also, for operational reasons additional constraints on the feasible region, i.e., the sample space are imposed.\n",
    "Often, it will be sensible to require a certain minimal number of subjects for the second stage to outweight the operational burden of an interim analysis (here: 5) and to require a certain minimal number upon rejection of the null hypothesis to ensure a sufficient precision of the response rate estimate when going on to a subsequent phase III trial (here: 25)."
   ]
  },
  {
   "cell_type": "code",
   "execution_count": 8,
   "metadata": {},
   "outputs": [
    {
     "data": {
      "text/plain": []
     },
     "execution_count": 8,
     "metadata": {},
     "output_type": "execute_result"
    }
   ],
   "source": [
    "s2 = SampleSpace(\n",
    "    15:25,\n",
    "    75,   \n",
    "    n2min = 5, # minmal stage-two sample size\n",
    "    nmincont = 25 # minimal sample size upon rejection of the null\n",
    ")\n",
    "\n",
    "params2 = MBESS(\n",
    "    s2,                       # sample space\n",
    "    p0, pmcr, f,          # null, pmcrv, and prior\n",
    "    alpha = alpha, beta = beta # max. type one error rate and expected type two error rates\n",
    ")"
   ]
  },
  {
   "cell_type": "code",
   "execution_count": 9,
   "metadata": {},
   "outputs": [
    {
     "name": "stdout",
     "output_type": "stream",
     "text": [
      "MBESS\n",
      "optimizing design for parameters ''\n",
      "considering 11 stage-one sample sizes between 15 and 25 using Cbc.CbcMathProgSolverInterface.CbcSolver as solver\n",
      "\n",
      "    time    n1   % done   sol. time [s]   cum. time [min]       score        best   % diff to best\n",
      "18:13:07    15      9.1              31               0.5   +2.56e+01   +2.56e+01              0.0\n",
      "\n"
     ]
    },
    {
     "name": "stderr",
     "output_type": "stream",
     "text": [
      "\u001b[1m\u001b[33mWARNING: \u001b[39m\u001b[22m\u001b[33mNot solved to optimality, status: UserLimit\u001b[39m\n"
     ]
    },
    {
     "name": "stdout",
     "output_type": "stream",
     "text": [
      "\n",
      "    time    n1   % done   sol. time [s]   cum. time [min]       score        best   % diff to best\n",
      "18:13:38    16     18.2             307               5.6   +2.61e+01   +2.56e+01              2.1\n",
      "\n",
      "\n",
      "    time    n1   % done   sol. time [s]   cum. time [min]       score        best   % diff to best\n",
      "18:18:46    17     27.3              75               6.9   +2.55e+01   +2.55e+01              0.0\n",
      "\n",
      "\n",
      "    time    n1   % done   sol. time [s]   cum. time [min]       score        best   % diff to best\n",
      "18:20:01    18     36.4              48               7.7   +2.55e+01   +2.55e+01              0.0\n",
      "\n",
      "\n",
      "    time    n1   % done   sol. time [s]   cum. time [min]       score        best   % diff to best\n",
      "18:20:49    19     45.5              88               9.2   +2.57e+01   +2.55e+01              0.8\n",
      "\n",
      "\n",
      "    time    n1   % done   sol. time [s]   cum. time [min]       score        best   % diff to best\n",
      "18:22:17    20     54.5              58              10.1   +2.55e+01   +2.55e+01              0.1\n",
      "\n",
      "\n",
      "    time    n1   % done   sol. time [s]   cum. time [min]       score        best   % diff to best\n",
      "18:23:15    21     63.6             253              14.4   +2.57e+01   +2.55e+01              0.9\n",
      "\n",
      "\n",
      "    time    n1   % done   sol. time [s]   cum. time [min]       score        best   % diff to best\n",
      "18:27:28    22     72.7              76              15.6   +2.58e+01   +2.55e+01              1.3\n",
      "\n",
      "\n",
      "    time    n1   % done   sol. time [s]   cum. time [min]       score        best   % diff to best\n",
      "18:28:44    23     81.8              74              16.9   +2.58e+01   +2.55e+01              1.2\n",
      "\n",
      "\n",
      "    time    n1   % done   sol. time [s]   cum. time [min]       score        best   % diff to best\n",
      "18:29:59    24     90.9              68              18.0   +2.60e+01   +2.55e+01              1.9\n",
      "\n",
      "\n",
      "    time    n1   % done   sol. time [s]   cum. time [min]       score        best   % diff to best\n",
      "18:31:07    25    100.0              87              19.4   +2.62e+01   +2.55e+01              2.8\n",
      "\n",
      "\n",
      "\n",
      "done after 19 minutes.\n",
      "Optimal stage-one sample size is 18 resulting in a minimal score of 2.55e+01\n",
      "\n",
      "\r"
     ]
    },
    {
     "data": {
      "text/html": [
       "<table class=\"data-frame\"><thead><tr><th></th><th>x1</th><th>n</th><th>c</th></tr></thead><tbody><tr><th>1</th><td>0</td><td>18</td><td>Inf</td></tr><tr><th>2</th><td>1</td><td>18</td><td>Inf</td></tr><tr><th>3</th><td>2</td><td>18</td><td>Inf</td></tr><tr><th>4</th><td>3</td><td>18</td><td>Inf</td></tr><tr><th>5</th><td>4</td><td>18</td><td>Inf</td></tr><tr><th>6</th><td>5</td><td>35</td><td>11.0</td></tr><tr><th>7</th><td>6</td><td>32</td><td>10.0</td></tr><tr><th>8</th><td>7</td><td>26</td><td>8.0</td></tr><tr><th>9</th><td>8</td><td>25</td><td>-Inf</td></tr><tr><th>10</th><td>9</td><td>25</td><td>-Inf</td></tr><tr><th>11</th><td>10</td><td>25</td><td>-Inf</td></tr><tr><th>12</th><td>11</td><td>25</td><td>-Inf</td></tr><tr><th>13</th><td>12</td><td>25</td><td>-Inf</td></tr><tr><th>14</th><td>13</td><td>25</td><td>-Inf</td></tr><tr><th>15</th><td>14</td><td>25</td><td>-Inf</td></tr><tr><th>16</th><td>15</td><td>25</td><td>-Inf</td></tr><tr><th>17</th><td>16</td><td>25</td><td>-Inf</td></tr><tr><th>18</th><td>17</td><td>25</td><td>-Inf</td></tr><tr><th>19</th><td>18</td><td>25</td><td>-Inf</td></tr></tbody></table>"
      ],
      "text/plain": [
       "19×3 DataFrames.DataFrame\n",
       "│ Row │ x1 │ n  │ c    │\n",
       "├─────┼────┼────┼──────┤\n",
       "│ 1   │ 0  │ 18 │ Inf  │\n",
       "│ 2   │ 1  │ 18 │ Inf  │\n",
       "│ 3   │ 2  │ 18 │ Inf  │\n",
       "│ 4   │ 3  │ 18 │ Inf  │\n",
       "│ 5   │ 4  │ 18 │ Inf  │\n",
       "│ 6   │ 5  │ 35 │ 11.0 │\n",
       "│ 7   │ 6  │ 32 │ 10.0 │\n",
       "│ 8   │ 7  │ 26 │ 8.0  │\n",
       "│ 9   │ 8  │ 25 │ -Inf │\n",
       "│ 10  │ 9  │ 25 │ -Inf │\n",
       "│ 11  │ 10 │ 25 │ -Inf │\n",
       "│ 12  │ 11 │ 25 │ -Inf │\n",
       "│ 13  │ 12 │ 25 │ -Inf │\n",
       "│ 14  │ 13 │ 25 │ -Inf │\n",
       "│ 15  │ 14 │ 25 │ -Inf │\n",
       "│ 16  │ 15 │ 25 │ -Inf │\n",
       "│ 17  │ 16 │ 25 │ -Inf │\n",
       "│ 18  │ 17 │ 25 │ -Inf │\n",
       "│ 19  │ 18 │ 25 │ -Inf │"
      ]
     },
     "execution_count": 9,
     "metadata": {},
     "output_type": "execute_result"
    }
   ],
   "source": [
    "design2, res2 = optimaldesign(params2, CbcSolver(seconds = 300), VERBOSE = 1)\n",
    "DataFrame(design2)"
   ]
  },
  {
   "cell_type": "markdown",
   "metadata": {},
   "source": [
    "## Inference\n",
    "\n",
    "After completing the trial with 5/16 responses in stage one and 10 further responses in stage two, a point estimate and confidence iterval are required. Point estimates were discussed in [Kunzmann & Kieser 2016](http://onlinelibrary.wiley.com/doi/10.1002/sim.7200/abstract) and different estimators are implemented. Here, we use a compatible minimum expected mean squared error estimator with several favorable properties."
   ]
  },
  {
   "cell_type": "code",
   "execution_count": 10,
   "metadata": {},
   "outputs": [
    {
     "name": "stdout",
     "output_type": "stream",
     "text": [
      "\n",
      "******************************************************************************\n",
      "This program contains Ipopt, a library for large-scale nonlinear optimization.\n",
      " Ipopt is released as open source code under the Eclipse Public License (EPL).\n",
      "         For more information visit http://projects.coin-or.org/Ipopt\n",
      "******************************************************************************\n",
      "\n",
      "This is Ipopt version 3.12.8, running with linear solver mumps.\n",
      "NOTE: Other linear solvers might be more efficient (see Ipopt documentation).\n",
      "\n",
      "Number of nonzeros in equality constraint Jacobian...:        0\n",
      "Number of nonzeros in inequality constraint Jacobian.:      154\n",
      "Number of nonzeros in Lagrangian Hessian.............:    11250\n",
      "\n",
      "Total number of variables............................:       78\n",
      "                     variables with only lower bounds:        0\n",
      "                variables with lower and upper bounds:       78\n",
      "                     variables with only upper bounds:        0\n",
      "Total number of equality constraints.................:        0\n",
      "Total number of inequality constraints...............:       77\n",
      "        inequality constraints with only lower bounds:       27\n",
      "   inequality constraints with lower and upper bounds:        0\n",
      "        inequality constraints with only upper bounds:       50\n",
      "\n",
      "iter    objective    inf_pr   inf_du lg(mu)  ||d||  lg(rg) alpha_du alpha_pr  ls\n",
      "   0 -9.5665966e-003 9.90e-007 1.59e+000  -1.0 0.00e+000    -  0.00e+000 0.00e+000   0\n",
      "   1 -1.4761435e-002 9.37e-003 9.70e-001  -1.0 1.86e-001    -  1.10e-001 5.31e-002f  1\n",
      "   2 -4.6358569e-002 0.00e+000 1.80e+001  -1.7 3.99e-002    -  4.99e-001 1.00e+000f  1\n",
      "   3 -1.0758540e-001 0.00e+000 1.36e+001  -1.7 8.56e-002    -  6.12e-001 1.00e+000f  1\n",
      "   4 -1.2659524e-001 0.00e+000 1.33e+001  -1.7 2.93e-001    -  4.09e-001 1.34e-001f  1\n",
      "   5 -2.8182367e-001 0.00e+000 3.87e-001  -1.7 3.91e-001    -  5.34e-001 1.00e+000f  1\n",
      "   6 -3.2980236e-001 0.00e+000 2.00e-007  -1.7 2.65e-001    -  1.00e+000 1.00e+000f  1\n",
      "   7 -3.3484644e-001 0.00e+000 1.97e-001  -3.8 5.00e-002    -  9.06e-001 1.00e+000f  1\n",
      "   8 -3.4237604e-001 0.00e+000 1.32e-002  -3.8 9.00e-002    -  9.29e-001 1.00e+000f  1\n",
      "   9 -3.4511096e-001 0.00e+000 1.50e-009  -3.8 8.17e-002    -  1.00e+000 1.00e+000f  1\n",
      "iter    objective    inf_pr   inf_du lg(mu)  ||d||  lg(rg) alpha_du alpha_pr  ls\n",
      "  10 -3.4631161e-001 0.00e+000 3.76e-003  -5.7 8.31e-002    -  8.41e-001 1.00e+000f  1\n",
      "  11 -3.4668431e-001 0.00e+000 6.59e-004  -5.7 8.99e-002    -  9.00e-001 1.00e+000f  1\n",
      "  12 -3.4674869e-001 0.00e+000 1.84e-011  -5.7 6.40e-002    -  1.00e+000 1.00e+000f  1\n",
      "  13 -3.4676301e-001 0.00e+000 1.26e-004  -8.6 5.14e-002    -  8.73e-001 1.00e+000f  1\n",
      "  14 -3.4676452e-001 0.00e+000 4.00e-005  -8.6 5.43e-002    -  8.77e-001 1.00e+000f  1\n",
      "  15 -3.4676467e-001 0.00e+000 2.51e-014  -8.6 3.83e-002    -  1.00e+000 1.00e+000f  1\n",
      "  16 -3.4676468e-001 0.00e+000 2.51e-014  -8.6 2.44e-002    -  1.00e+000 1.00e+000h  1\n",
      "\n",
      "Number of Iterations....: 16\n",
      "\n",
      "                                   (scaled)                 (unscaled)\n",
      "Objective...............: -3.4676468185755183e-001  -3.4676468185755183e-001\n",
      "Dual infeasibility......:  2.5059036063649481e-014   2.5059036063649481e-014\n",
      "Constraint violation....:  0.0000000000000000e+000   0.0000000000000000e+000\n",
      "Complementarity.........:  9.5339798512296542e-009   9.5339798512296542e-009\n",
      "Overall NLP error.......:  9.5339798512296542e-009   9.5339798512296542e-009\n",
      "\n",
      "\n",
      "Number of objective function evaluations             = 17\n",
      "Number of objective gradient evaluations             = 17\n",
      "Number of equality constraint evaluations            = 0\n",
      "Number of inequality constraint evaluations          = 17\n",
      "Number of equality constraint Jacobian evaluations   = 0\n",
      "Number of inequality constraint Jacobian evaluations = 17\n",
      "Number of Lagrangian Hessian evaluations             = 16\n",
      "Total CPU secs in IPOPT (w/o function evaluations)   =      0.140\n",
      "Total CPU secs in NLP function evaluations           =      0.094\n",
      "\n",
      "EXIT: Optimal Solution Found.\n"
     ]
    },
    {
     "data": {
      "text/plain": [
       "0.43695005144224414"
      ]
     },
     "execution_count": 10,
     "metadata": {},
     "output_type": "execute_result"
    }
   ],
   "source": [
    "est = OCEstimator(design1, IpoptSolver())\n",
    "\n",
    "estimate(est, 5, 10)"
   ]
  },
  {
   "cell_type": "markdown",
   "metadata": {},
   "source": [
    "The maximum likelihood estimator (MLE) would have been:"
   ]
  },
  {
   "cell_type": "code",
   "execution_count": 11,
   "metadata": {},
   "outputs": [
    {
     "data": {
      "text/plain": [
       "0.4411764705882353"
      ]
     },
     "execution_count": 11,
     "metadata": {},
     "output_type": "execute_result"
    }
   ],
   "source": [
    "(5 + 10) / (samplesize(design1, 5))"
   ]
  },
  {
   "cell_type": "markdown",
   "metadata": {},
   "source": [
    "Any estimator induces an ordering on the sample space which in turn implies p values. The major advantage of the novel optimal compatible estimators in [Kunzmann & Kieser 2016](http://onlinelibrary.wiley.com/doi/10.1002/sim.7200/abstract) is the fact that their implied p values are *always* compatible with the design's test decision."
   ]
  },
  {
   "cell_type": "code",
   "execution_count": 12,
   "metadata": {},
   "outputs": [
    {
     "data": {
      "text/plain": [
       "0.00750164919381819"
      ]
     },
     "execution_count": 12,
     "metadata": {},
     "output_type": "execute_result"
    }
   ],
   "source": [
    "pvalue(est, 5, 10, p0)"
   ]
  },
  {
   "cell_type": "markdown",
   "metadata": {},
   "source": [
    "The very same ordering/p values can then be used to derive a Clopper-Pearson type confidence interval (paper under review):"
   ]
  },
  {
   "cell_type": "code",
   "execution_count": 13,
   "metadata": {},
   "outputs": [
    {
     "data": {
      "text/plain": [
       "2-element Array{Float64,1}:\n",
       " 0.271\n",
       " 0.647"
      ]
     },
     "execution_count": 13,
     "metadata": {},
     "output_type": "execute_result"
    }
   ],
   "source": [
    "ci = ECPInterval(est, confidence = .9)\n",
    "\n",
    "limits(ci, 5, 10)"
   ]
  },
  {
   "cell_type": "code",
   "execution_count": null,
   "metadata": {
    "collapsed": true
   },
   "outputs": [],
   "source": []
  }
 ],
 "metadata": {
  "kernelspec": {
   "display_name": "Julia 0.6.0",
   "language": "julia",
   "name": "julia-0.6"
  },
  "language_info": {
   "file_extension": ".jl",
   "mimetype": "application/julia",
   "name": "julia",
   "version": "0.6.0"
  }
 },
 "nbformat": 4,
 "nbformat_minor": 2
}
